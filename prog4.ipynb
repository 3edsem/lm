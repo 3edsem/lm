{
 "cells": [
  {
   "cell_type": "code",
   "execution_count": null,
   "id": "757025ee-a8de-4fa3-8dac-38816fec079a",
   "metadata": {},
   "outputs": [],
   "source": [
    "import pandas as pd \n",
    "def find_s_algorithm(file_path): \n",
    "    data = pd.read_csv(file_path) \n",
    "    print(\"Training data:\") \n",
    "    print(data) \n",
    "    attributes = data.columns[:-1] \n",
    "    class_label = data.columns[-1] \n",
    "    hypothesis = ['?' for _ in attributes] \n",
    "    for index, row in data.iterrows(): \n",
    "        if row[class_label] == 'Yes': \n",
    "            for i, value in enumerate(row[attributes]): \n",
    "                if hypothesis[i] == '?' or hypothesis[i] == value: \n",
    "                    hypothesis[i] = value \n",
    "                else: \n",
    "                    hypothesis[i] = '?' \n",
    "    return hypothesis \n",
    "file_path = 'training_data.csv' \n",
    "hypothesis = find_s_algorithm(file_path) \n",
    "print(\"\\nThe final hypothesis is:\", hypothesis)\n"
   ]
  },
  {
   "cell_type": "code",
   "execution_count": null,
   "id": "ef03f725-224f-47b5-88c5-2917bc333bca",
   "metadata": {},
   "outputs": [],
   "source": []
  }
 ],
 "metadata": {
  "kernelspec": {
   "display_name": "Python 3 (ipykernel)",
   "language": "python",
   "name": "python3"
  },
  "language_info": {
   "codemirror_mode": {
    "name": "ipython",
    "version": 3
   },
   "file_extension": ".py",
   "mimetype": "text/x-python",
   "name": "python",
   "nbconvert_exporter": "python",
   "pygments_lexer": "ipython3",
   "version": "3.12.7"
  }
 },
 "nbformat": 4,
 "nbformat_minor": 5
}
